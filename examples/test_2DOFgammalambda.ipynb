{
 "cells": [
  {
   "cell_type": "code",
   "execution_count": null,
   "id": "ad678d5f-6e32-4e7b-acb2-851f0d83e494",
   "metadata": {},
   "outputs": [],
   "source": [
    "import sys\n",
    "sys.path.append('../')\n",
    "sys.path.append('../build')\n",
    "sys.path.append('../../')\n",
    "\n",
    "import Springtronics as spr\n",
    "import matplotlib.pyplot as plt\n",
    "import numpy as np"
   ]
  },
  {
   "cell_type": "code",
   "execution_count": null,
   "id": "c0df5604-9e86-4fb4-88e3-4c3c25d9eb04",
   "metadata": {},
   "outputs": [],
   "source": [
    "system = spr.MechanicalSystem()"
   ]
  },
  {
   "cell_type": "code",
   "execution_count": null,
   "id": "86598c11-8788-4601-a91a-2dc877ceb048",
   "metadata": {},
   "outputs": [],
   "source": [
    "m = 2\n",
    "b= 2\n",
    "k= 6\n",
    "force = 1\n",
    "\n",
    "print(f'Eta {b/(2*np.sqrt(k*m))}')"
   ]
  },
  {
   "cell_type": "code",
   "execution_count": null,
   "id": "df55ea79-f0a1-477d-a0e0-9e40d65afa34",
   "metadata": {},
   "outputs": [],
   "source": [
    "filelength = 78001\n",
    "sr = 16000\n",
    "x = np.linspace(0, filelength/sr, filelength)"
   ]
  },
  {
   "cell_type": "code",
   "execution_count": null,
   "id": "2789b86f-77ed-421c-8930-3e599cfcf04c",
   "metadata": {},
   "outputs": [],
   "source": [
    "dofName = 'oscillator'\n",
    "system.degreesOfFreedom[f'{dofName}'] = spr.ParametricVariable(m)\n",
    "system.interactionPotentials[f'{dofName}_K'] =  spr.IntegerPotential(k)\n",
    "system.interactionPotentials[f'{dofName}_K'].degreesOfFreedom[dofName] = 2\n",
    "system.interactionPotentials[f'{dofName}_B'] =  spr.LocalDamping(dofName, b)"
   ]
  },
  {
   "cell_type": "code",
   "execution_count": null,
   "id": "01864339-ede7-425a-9746-9eebb15b1926",
   "metadata": {},
   "outputs": [],
   "source": [
    "m_cant = 10\n",
    "b_cant = 10\n",
    "k_cant = 5\n",
    "gamma = 10\n",
    "duffing  = 10000 #lambda"
   ]
  },
  {
   "cell_type": "code",
   "execution_count": null,
   "id": "ed691a26-c4bd-4e85-a9f7-4f5ab67fdcea",
   "metadata": {},
   "outputs": [],
   "source": [
    "dofName = 'cantilever'\n",
    "system.degreesOfFreedom[f'{dofName}'] = spr.ParametricVariable(m_cant)\n",
    "system.interactionPotentials[f'{dofName}_K'] =  spr.IntegerPotential(k_cant)\n",
    "system.interactionPotentials[f'{dofName}_K'].degreesOfFreedom[dofName] = 2\n",
    "#spring\n",
    "system.interactionPotentials[f'{dofName}_L'] =  spr.IntegerPotential(duffing)\n",
    "system.interactionPotentials[f'{dofName}_L'].degreesOfFreedom[dofName] = 4\n",
    "#duffing potential (lambda)\n",
    "system.interactionPotentials[f'{dofName}_B'] =  spr.LocalDamping(dofName, b_cant)"
   ]
  },
  {
   "cell_type": "code",
   "execution_count": null,
   "id": "c7e50831-207f-4a3f-9125-af5932b915b5",
   "metadata": {},
   "outputs": [],
   "source": [
    "opticalDOF = 'oscillator'\n",
    "mechanicalDOF = 'cantilever'"
   ]
  },
  {
   "cell_type": "code",
   "execution_count": null,
   "id": "f98e7d06-761e-45ba-bfa1-8d083b7e4ee2",
   "metadata": {},
   "outputs": [],
   "source": [
    "system.interactionPotentials[f'OptoCoup_{opticalDOF}_{mechanicalDOF}'] =  spr.IntegerPotential(-gamma)\n",
    "system.interactionPotentials[f'OptoCoup_{opticalDOF}_{mechanicalDOF}'].degreesOfFreedom[opticalDOF] = 2\n",
    "system.interactionPotentials[f'OptoCoup_{opticalDOF}_{mechanicalDOF}'].degreesOfFreedom[mechanicalDOF] = 1\n",
    "#optomechanical coupling (gamma)"
   ]
  },
  {
   "cell_type": "code",
   "execution_count": null,
   "id": "0f072ead-e7d9-48c2-9205-c18435513656",
   "metadata": {},
   "outputs": [],
   "source": [
    "system.excitationSources['soundData'] = spr.DirectCInjectionSource(force)\n",
    "\n",
    "\n",
    "system.interactionPotentials[f'excitation'] = spr.Excitation(opticalDOF, 'soundData', 1.0)"
   ]
  },
  {
   "cell_type": "code",
   "execution_count": null,
   "id": "09df3a0a-6c64-424c-b7b1-2d3d79f2953b",
   "metadata": {},
   "outputs": [],
   "source": [
    "#probe string\n",
    "system.probes['system_output'] = spr.WindowedA2Probe(opticalDOF,\n",
    "                                                    startIndex=0,\n",
    "                                                    endIndex=filelength)\n",
    "\n",
    "# Define an adjoint source (used to compute the gradient efficiently: https://en.wikipedia.org/wiki/Adjoint_state_method)\n",
    "system.interactionPotentials['adjoint_source'] = system.probes['system_output'].makeAdjointSource()\n",
    "\n",
    "#probe cantilever\n",
    "system.probes['cant_output'] = spr.WindowedA2Probe(mechanicalDOF,\n",
    "                                                    startIndex=0,\n",
    "                                                    endIndex=filelength)\n",
    "\n",
    "# Define an adjoint source (used to compute the gradient efficiently: https://en.wikipedia.org/wiki/Adjoint_state_method)\n",
    "system.interactionPotentials['adjoint_source'] = system.probes['cant_output'].makeAdjointSource()"
   ]
  },
  {
   "cell_type": "code",
   "execution_count": null,
   "id": "926d1e7b-a342-44e4-9149-6f5ab0cf20b8",
   "metadata": {},
   "outputs": [],
   "source": [
    "env = spr.CPPEnvironment(numSteps = filelength,\n",
    "                           timeStep = 1.0/sr,\n",
    "                           numSweepSteps = 1,\n",
    "                           numThreads=1)"
   ]
  },
  {
   "cell_type": "code",
   "execution_count": null,
   "id": "c125afa5",
   "metadata": {},
   "outputs": [],
   "source": [
    "import Springtronics.LinearSimulation as lin\n",
    "lin.makeLinearizedModel(system, np.zeros(1000))"
   ]
  },
  {
   "cell_type": "code",
   "execution_count": null,
   "id": "7c7b4204",
   "metadata": {},
   "outputs": [],
   "source": [
    "import Springtronics.HelperFunctions as hf\n",
    "hf.getGamma(system)"
   ]
  },
  {
   "cell_type": "code",
   "execution_count": null,
   "id": "02a090f0-a9f2-4117-89ad-1597dc07e9a8",
   "metadata": {},
   "outputs": [],
   "source": [
    "%%time\n",
    "traj = env.getTrajectories(system, initialConditions=np.zeros(2), deleteTemp=False)"
   ]
  },
  {
   "cell_type": "markdown",
   "id": "395da14e-e757-405f-9df0-b47db6ff9759",
   "metadata": {},
   "source": [
    "# Plot"
   ]
  },
  {
   "cell_type": "markdown",
   "id": "e956a263-88f8-4f66-bef4-f302da11a807",
   "metadata": {},
   "source": [
    "## String"
   ]
  },
  {
   "cell_type": "code",
   "execution_count": null,
   "id": "f3e2041e-69b1-483a-b918-fb5e9f8ec7b4",
   "metadata": {},
   "outputs": [],
   "source": [
    "plt.plot(x, traj[:,0])\n",
    "plt.title(f'Final energy: {round(traj[-1, -2], 8)}\\nFinal amplitude: {round(traj[-1,0], 8)}')"
   ]
  },
  {
   "cell_type": "markdown",
   "id": "dcdcc30a-d083-482f-93f2-c04c60912342",
   "metadata": {},
   "source": [
    "## Cantilever"
   ]
  },
  {
   "cell_type": "code",
   "execution_count": null,
   "id": "a86574ea-a30b-4cd6-ac8b-a208c6b25f0e",
   "metadata": {},
   "outputs": [],
   "source": [
    "plt.plot(x, traj[:,1])\n",
    "plt.title(f'Final energy: {round(traj[-1, -1], 8)}\\nFinal amplitude: {round(traj[-1,1], 8)}')"
   ]
  },
  {
   "cell_type": "code",
   "execution_count": null,
   "id": "a2e0b570",
   "metadata": {},
   "outputs": [],
   "source": []
  }
 ],
 "metadata": {
  "kernelspec": {
   "display_name": "Python 3.9.13 ('base')",
   "language": "python",
   "name": "python3"
  },
  "language_info": {
   "codemirror_mode": {
    "name": "ipython",
    "version": 3
   },
   "file_extension": ".py",
   "mimetype": "text/x-python",
   "name": "python",
   "nbconvert_exporter": "python",
   "pygments_lexer": "ipython3",
   "version": "3.9.13"
  },
  "vscode": {
   "interpreter": {
    "hash": "1c8931be4cc502347dca688273fb0ef30d53cbfd7a62de81011c7494c9be56a3"
   }
  }
 },
 "nbformat": 4,
 "nbformat_minor": 5
}
