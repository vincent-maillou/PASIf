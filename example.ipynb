{
 "cells": [
  {
   "cell_type": "markdown",
   "id": "d32e3c36-6763-4682-a3ba-eab1e896867b",
   "metadata": {},
   "source": [
    "This noteboook will guide you through the creation of a basic system in Springtronics."
   ]
  },
  {
   "cell_type": "markdown",
   "id": "fadd841c-58ae-42d0-843e-985dce8aeb23",
   "metadata": {},
   "source": [
    "# Imports"
   ]
  },
  {
   "cell_type": "code",
   "execution_count": 1,
   "id": "ad678d5f-6e32-4e7b-acb2-851f0d83e494",
   "metadata": {},
   "outputs": [],
   "source": [
    "import sys\n",
    "sys.path.append('../')\n",
    "\n",
    "import Springtronics as spr\n",
    "import matplotlib.pyplot as plt\n",
    "import numpy as np"
   ]
  },
  {
   "cell_type": "markdown",
   "id": "976daea8-b3ce-47c7-8619-bdac3a858ef1",
   "metadata": {},
   "source": [
    "# Single oscillator"
   ]
  },
  {
   "cell_type": "code",
   "execution_count": 3,
   "id": "c0df5604-9e86-4fb4-88e3-4c3c25d9eb04",
   "metadata": {},
   "outputs": [],
   "source": [
    "system = spr.MechanicalSystem()"
   ]
  },
  {
   "cell_type": "markdown",
   "id": "3c7153ba-94f9-44ae-84e2-534ee2df2085",
   "metadata": {},
   "source": [
    "Variables for the oscillator"
   ]
  },
  {
   "cell_type": "code",
   "execution_count": 4,
   "id": "86598c11-8788-4601-a91a-2dc877ceb048",
   "metadata": {},
   "outputs": [
    {
     "name": "stdout",
     "output_type": "stream",
     "text": [
      "Damping coefficient: 0.4082482904638631\n"
     ]
    }
   ],
   "source": [
    "m = 1\n",
    "b= 2\n",
    "k= 6\n",
    "force = 1\n",
    "\n",
    "print(f'Damping coefficient: {b/(2*np.sqrt(k*m))}')"
   ]
  },
  {
   "cell_type": "markdown",
   "id": "d387175f-0c49-4c7f-a0ca-ffe9b43f79ca",
   "metadata": {},
   "source": [
    "Simulation variables"
   ]
  },
  {
   "cell_type": "code",
   "execution_count": 5,
   "id": "df55ea79-f0a1-477d-a0e0-9e40d65afa34",
   "metadata": {},
   "outputs": [],
   "source": [
    "filelength = 78001\n",
    "sr = 16000\n",
    "x = np.linspace(0, filelength/sr, filelength)"
   ]
  },
  {
   "cell_type": "code",
   "execution_count": 6,
   "id": "2789b86f-77ed-421c-8930-3e599cfcf04c",
   "metadata": {},
   "outputs": [],
   "source": [
    "dofName = 'oscillator'\n",
    "system.degreesOfFreedom[f'{dofName}'] = spr.ParametricVariable(m) #creation of the dof\n",
    "system.degreesOfFreedom[f'{dofName}'].parameterized = True\n",
    "system.interactionPotentials[f'{dofName}_K'] =  spr.IntegerPotential(k) #spring\n",
    "system.interactionPotentials[f'{dofName}_K'].strength.parameterized = True\n",
    "system.interactionPotentials[f'{dofName}_K'].degreesOfFreedom[dofName] = 2\n",
    "system.interactionPotentials[f'{dofName}_B'] =  spr.LocalDamping(dofName, b) #damping\n",
    "system.interactionPotentials[f'{dofName}_B'].strength.parameterized = True\n"
   ]
  },
  {
   "cell_type": "code",
   "execution_count": 7,
   "id": "8e1a8b67-fadc-44c0-b0da-2ce214a5c98d",
   "metadata": {},
   "outputs": [],
   "source": [
    "system.excitationSources['soundData'] = spr.DirectCInjectionSource(force) #constant force\n",
    "system.interactionPotentials[f'excitation'] = spr.Excitation('oscillator', 'soundData', 1.0)"
   ]
  },
  {
   "cell_type": "code",
   "execution_count": 8,
   "id": "6cf2a5d8-4310-478c-893b-01989e1fcb45",
   "metadata": {},
   "outputs": [],
   "source": [
    "#probe\n",
    "system.probes['oscillator'] = spr.WindowedA2Probe('oscillator',\n",
    "                                                    startIndex=0,\n",
    "                                                    endIndex=filelength)\n",
    "\n",
    "# Define an adjoint source (used to compute the gradient efficiently: https://en.wikipedia.org/wiki/Adjoint_state_method)\n",
    "system.interactionPotentials['oscillator_probe'] = system.probes['oscillator'].makeAdjointSource()"
   ]
  },
  {
   "cell_type": "code",
   "execution_count": 9,
   "id": "34a5d6b8-6a29-4bf9-9360-79fa297247ce",
   "metadata": {},
   "outputs": [],
   "source": [
    "env = spr.CPPEnvironment(numSteps = filelength,\n",
    "                           timeStep = 1.0/sr,\n",
    "                           numSweepSteps = 1,\n",
    "                           numThreads=1)\n",
    "#simulation environment"
   ]
  },
  {
   "cell_type": "code",
   "execution_count": 10,
   "id": "4455ac94-4433-4fae-a479-adbfb64ba446",
   "metadata": {},
   "outputs": [
    {
     "name": "stdout",
     "output_type": "stream",
     "text": [
      "Warning: Temporary folder already exists.\n"
     ]
    }
   ],
   "source": [
    "traj = env.getTrajectories(system, deleteTemp=False)"
   ]
  },
  {
   "cell_type": "code",
   "execution_count": 11,
   "id": "670ef2c2",
   "metadata": {},
   "outputs": [
    {
     "name": "stdout",
     "output_type": "stream",
     "text": [
      "Warning: Temporary folder already exists.\n"
     ]
    },
    {
     "data": {
      "text/plain": [
       "(array([[0.03385051]]), array([[ 0.08398849, -0.00102356]]))"
      ]
     },
     "execution_count": 11,
     "metadata": {},
     "output_type": "execute_result"
    }
   ],
   "source": [
    "env.getAmplitudes(system)"
   ]
  },
  {
   "cell_type": "code",
   "execution_count": 12,
   "id": "3b1f3f3c-f434-46d7-9b35-b702c26eed20",
   "metadata": {},
   "outputs": [
    {
     "data": {
      "image/png": "[encoded data removed]",
      "text/plain": [
       "<Figure size 432x288 with 1 Axes>"
      ]
     },
     "metadata": {
      "needs_background": "light"
     },
     "output_type": "display_data"
    }
   ],
   "source": [
    "plt.plot(x, traj[:,0])\n",
    "plt.xlabel('Time')\n",
    "plt.ylabel('Displacement')\n",
    "plt.plot(x, force/(2*k)*np.ones(len(x)))\n",
    "plt.title(f'Final amplitude: {round(traj[-1,0], 5)}\\nEnergy: {round(traj[-1,2], 5)}')\n",
    "plt.grid()"
   ]
  },
  {
   "cell_type": "code",
   "execution_count": 13,
   "id": "66a6e8b0-7c58-45a9-ac63-09bb14b20893",
   "metadata": {},
   "outputs": [
    {
     "data": {
      "text/plain": [
       "array([[-0.0109216 , -0.00175644,  0.00148399]])"
      ]
     },
     "execution_count": 13,
     "metadata": {},
     "output_type": "execute_result"
    }
   ],
   "source": [
    "env.getGradients(system)"
   ]
  },
  {
   "cell_type": "markdown",
   "id": "a1872728-fa75-43d6-8a84-f722bcd406e9",
   "metadata": {},
   "source": [
    "# Cantilever"
   ]
  },
  {
   "cell_type": "markdown",
   "id": "3d98b93b-5a2d-4b16-8822-17a41fbbc222",
   "metadata": {},
   "source": [
    "We can add a cantilever and an optomechanical coupling to add a non linearity in the displacement"
   ]
  },
  {
   "cell_type": "code",
   "execution_count": 14,
   "id": "01864339-ede7-425a-9746-9eebb15b1926",
   "metadata": {},
   "outputs": [],
   "source": [
    "m_cant = 10\n",
    "b_cant = 10\n",
    "k_cant = 5\n",
    "gamma = 10"
   ]
  },
  {
   "cell_type": "code",
   "execution_count": 15,
   "id": "ed691a26-c4bd-4e85-a9f7-4f5ab67fdcea",
   "metadata": {},
   "outputs": [],
   "source": [
    "dofName = 'cantilever'\n",
    "system.degreesOfFreedom[f'{dofName}'] = spr.ParametricVariable(m_cant)\n",
    "system.degreesOfFreedom[f'{dofName}'].parameterized = True\n",
    "system.interactionPotentials[f'{dofName}_K'] =  spr.IntegerPotential(k_cant)\n",
    "system.interactionPotentials[f'{dofName}_K'].degreesOfFreedom[dofName] = 2\n",
    "system.interactionPotentials[f'{dofName}_K'].strength.parameterized = True\n",
    "\n",
    "system.interactionPotentials[f'{dofName}_B'] =  spr.LocalDamping(dofName, b_cant)\n",
    "system.interactionPotentials[f'{dofName}_B'].strength.parameterized = True"
   ]
  },
  {
   "cell_type": "code",
   "execution_count": 16,
   "id": "f98e7d06-761e-45ba-bfa1-8d083b7e4ee2",
   "metadata": {},
   "outputs": [],
   "source": [
    "system.interactionPotentials[f'OptoCoup_oscillator_cantilever'] =  spr.IntegerPotential(-gamma)\n",
    "system.interactionPotentials[f'OptoCoup_oscillator_cantilever'].degreesOfFreedom['oscillator'] = 2\n",
    "system.interactionPotentials[f'OptoCoup_oscillator_cantilever'].degreesOfFreedom['cantilever'] = 1\n",
    "system.interactionPotentials[f'OptoCoup_oscillator_cantilever'].strength.parameterized = True\n",
    "#optomechanical coupling (gamma)"
   ]
  },
  {
   "cell_type": "code",
   "execution_count": 17,
   "id": "09df3a0a-6c64-424c-b7b1-2d3d79f2953b",
   "metadata": {},
   "outputs": [],
   "source": [
    "#probe cantilever\n",
    "system.probes['cantilever'] = spr.WindowedA2Probe('cantilever',\n",
    "                                                    startIndex=0,\n",
    "                                                    endIndex=filelength)\n",
    "\n",
    "# Define an adjoint source (used to compute the gradient efficiently: https://en.wikipedia.org/wiki/Adjoint_state_method)\n",
    "system.interactionPotentials['cantilever_probe'] = system.probes['cantilever'].makeAdjointSource()"
   ]
  },
  {
   "cell_type": "code",
   "execution_count": 18,
   "id": "02a090f0-a9f2-4117-89ad-1597dc07e9a8",
   "metadata": {},
   "outputs": [
    {
     "name": "stdout",
     "output_type": "stream",
     "text": [
      "CPU times: user 3.05 ms, sys: 1.08 ms, total: 4.13 ms\n",
      "Wall time: 572 ms\n"
     ]
    }
   ],
   "source": [
    "%%time\n",
    "traj = env.getTrajectories(system, initialConditions=np.zeros(2), deleteTemp=False)"
   ]
  },
  {
   "cell_type": "code",
   "execution_count": 19,
   "id": "0bad437a-4923-43c1-9889-037bb42ee029",
   "metadata": {},
   "outputs": [
    {
     "data": {
      "image/png": "[encoded data removed]",
      "text/plain": [
       "<Figure size 576x288 with 2 Axes>"
      ]
     },
     "metadata": {
      "needs_background": "light"
     },
     "output_type": "display_data"
    }
   ],
   "source": [
    "fig, axs = plt.subplots(1, 2, figsize=(8, 4))\n",
    "\n",
    "axs[0].plot(x, traj[:,0])\n",
    "axs[0].set_xlabel('Time')\n",
    "axs[0].set_ylabel('Displacement')\n",
    "axs[0].set_title(f'Oscillator\\nFinal amplitude: {round(traj[-1,0], 5)}\\nEnergy: {round(traj[-1,-2], 5)}')\n",
    "axs[0].grid()\n",
    "\n",
    "axs[1].plot(x, traj[:,1])\n",
    "axs[1].set_xlabel('Time')\n",
    "axs[1].set_ylabel('Displacement')\n",
    "axs[1].set_title(f'Cantilever\\nFinal amplitude: {round(traj[-1,0], 5)}\\nEnergy: {round(traj[-1,-1], 5)}')\n",
    "axs[1].grid()\n",
    "\n",
    "plt.tight_layout()"
   ]
  },
  {
   "cell_type": "code",
   "execution_count": 20,
   "id": "576b871a-0852-4f28-9885-24d79dc0f108",
   "metadata": {},
   "outputs": [
    {
     "name": "stdout",
     "output_type": "stream",
     "text": [
      "Warning: Temporary folder already exists.\n"
     ]
    },
    {
     "data": {
      "text/plain": [
       "array([[-1.15654e-02, -1.83265e-03, -1.32861e-04, -3.73025e-05,\n",
       "        -1.68298e-04,  1.54942e-03, -1.02365e-06]])"
      ]
     },
     "execution_count": 20,
     "metadata": {},
     "output_type": "execute_result"
    }
   ],
   "source": [
    "env.getGradients(system)"
   ]
  },
  {
   "cell_type": "markdown",
   "id": "a4ae4d89-6d4e-4c6a-884f-9630a249d82a",
   "metadata": {},
   "source": [
    "# Duffing"
   ]
  },
  {
   "cell_type": "markdown",
   "id": "65ae7c9e-c719-4403-b102-c7c0088fc438",
   "metadata": {},
   "source": [
    "We can add a duffing potential to the cantilever"
   ]
  },
  {
   "cell_type": "code",
   "execution_count": 21,
   "id": "fc79e9b9-5a12-4897-8672-36ad347aeafe",
   "metadata": {},
   "outputs": [],
   "source": [
    "duffing  = 1e5 #lambda"
   ]
  },
  {
   "cell_type": "code",
   "execution_count": 22,
   "id": "105af483-84e8-4005-85fe-9fa76fdaf3d9",
   "metadata": {},
   "outputs": [],
   "source": [
    "dofName = 'cantilever'\n",
    "system.interactionPotentials[f'{dofName}_L'] =  spr.IntegerPotential(duffing)\n",
    "system.interactionPotentials[f'{dofName}_L'].degreesOfFreedom[dofName] = 4\n",
    "system.interactionPotentials[f'{dofName}_L'].strength.parameterized = True\n",
    "#duffing potential (lambda)"
   ]
  },
  {
   "cell_type": "code",
   "execution_count": 23,
   "id": "ee6ac95e-36be-4398-bb08-90d184a8f789",
   "metadata": {},
   "outputs": [],
   "source": [
    "env = spr.CPPEnvironment(numSteps = filelength,\n",
    "                           timeStep = 1.0/sr,\n",
    "                           numSweepSteps = 1,\n",
    "                           numThreads=1)"
   ]
  },
  {
   "cell_type": "code",
   "execution_count": 24,
   "id": "9b6b6a0b-58d5-43bb-a83c-069eb677b88e",
   "metadata": {},
   "outputs": [],
   "source": [
    "traj_duffing = env.getTrajectories(system)"
   ]
  },
  {
   "cell_type": "code",
   "execution_count": 25,
   "id": "f22b6fe7-44f2-4261-bafc-855b7a931d44",
   "metadata": {},
   "outputs": [
    {
     "data": {
      "image/png": "[encoded data removed]",
      "text/plain": [
       "<Figure size 576x288 with 2 Axes>"
      ]
     },
     "metadata": {
      "needs_background": "light"
     },
     "output_type": "display_data"
    }
   ],
   "source": [
    "fig, axs = plt.subplots(1, 2, figsize=(8, 4))\n",
    "\n",
    "axs[0].plot(x, traj[:,0], 'b', label='Without duffing')\n",
    "axs[0].plot(x, traj_duffing[:,0], 'r', label='With duffing')\n",
    "axs[0].set_xlabel('Time')\n",
    "axs[0].set_ylabel('Displacement')\n",
    "axs[0].set_title(f'Oscillator\\nFinal amplitude: {round(traj[-1,0], 5)}\\nEnergy: {round(traj[-1,-2], 5)}')\n",
    "axs[0].grid()\n",
    "axs[0].legend()\n",
    "\n",
    "axs[1].plot(x, traj[:,1], 'b', label='Without duffing')\n",
    "axs[1].plot(x, traj_duffing[:,1], 'r', label='With duffing')\n",
    "axs[1].set_xlabel('Time')\n",
    "axs[1].set_ylabel('Displacement')\n",
    "axs[1].set_title(f'Cantilever\\nFinal amplitude: {round(traj[-1,0], 5)}\\nEnergy: {round(traj[-1,-1], 5)}')\n",
    "axs[1].grid()\n",
    "axs[1].legend()\n",
    "plt.tight_layout()"
   ]
  },
  {
   "cell_type": "code",
   "execution_count": 26,
   "id": "1809b275-3a89-45ec-b32b-258a244824ec",
   "metadata": {},
   "outputs": [
    {
     "name": "stdout",
     "output_type": "stream",
     "text": [
      "[[-1.11797e-02 -1.76847e-03 -2.78996e-05  7.53260e-07 -6.27256e-05\n",
      "  -1.25552e-09  1.44881e-03 -1.76140e-07]]\n"
     ]
    }
   ],
   "source": [
    "gradient = env.getGradients(system, deleteTemp=False)\n",
    "print(gradient)\n",
    "# 1, 2, 4, 5\n"
   ]
  },
  {
   "cell_type": "markdown",
   "id": "0b4105b0-638c-4ae9-9baf-43999b0b6f75",
   "metadata": {},
   "source": [
    "# Excitation with audio file"
   ]
  },
  {
   "cell_type": "code",
   "execution_count": 27,
   "id": "7462b9a6-1841-47be-8ea0-d24cc66ecb8f",
   "metadata": {},
   "outputs": [],
   "source": [
    "filelength = 78001\n",
    "sr = 256000\n",
    "x = np.linspace(0, 2*filelength/sr, filelength)"
   ]
  },
  {
   "cell_type": "code",
   "execution_count": 28,
   "id": "37307d27-48ae-4f49-ad9c-bd310390f088",
   "metadata": {},
   "outputs": [],
   "source": [
    "file = '/home/louvet/Documents/01_data/00_one_to_four/training/soundfile_4'"
   ]
  },
  {
   "cell_type": "code",
   "execution_count": 29,
   "id": "bfd9bf8c-9268-4cb9-b960-4236dc73ca2d",
   "metadata": {},
   "outputs": [],
   "source": [
    "system.excitationSources['soundData']  = spr.BinaryFileSource(fileList=[file],\n",
    "                                                                fileLength=filelength,\n",
    "                                                                fileDataType='double',\n",
    "                                                                log2Upsampling=2)\n",
    "system.interactionPotentials[f'excitation'] = spr.Excitation('oscillator', 'soundData', 1.0)"
   ]
  },
  {
   "cell_type": "code",
   "execution_count": 30,
   "id": "2f4be219-76f5-4477-bf29-581a4c934e14",
   "metadata": {},
   "outputs": [
    {
     "data": {
      "text/plain": [
       "' env = spr.CPPEnvironment(numSteps = filelength,\\n                           timeStep = 1.0/sr,\\n                           numSweepSteps = 1,\\n                           numThreads=1) '"
      ]
     },
     "execution_count": 30,
     "metadata": {},
     "output_type": "execute_result"
    }
   ],
   "source": [
    "\"\"\" env = spr.CPPEnvironment(numSteps = filelength,\n",
    "                           timeStep = 1.0/sr,\n",
    "                           numSweepSteps = 1,\n",
    "                           numThreads=1) \"\"\""
   ]
  },
  {
   "cell_type": "code",
   "execution_count": 33,
   "id": "143bff0b-ad34-4325-a846-057e5da7ee56",
   "metadata": {},
   "outputs": [
    {
     "name": "stdout",
     "output_type": "stream",
     "text": [
      "Warning: Temporary folder already exists.\n"
     ]
    }
   ],
   "source": [
    "res = env.getTrajectories(system)"
   ]
  },
  {
   "cell_type": "code",
   "execution_count": 34,
   "id": "38e6518d-5b61-4a94-9004-c186d9a461ff",
   "metadata": {},
   "outputs": [
    {
     "data": {
      "image/png": "[encoded data removed]",
      "text/plain": [
       "<Figure size 576x288 with 2 Axes>"
      ]
     },
     "metadata": {
      "needs_background": "light"
     },
     "output_type": "display_data"
    }
   ],
   "source": [
    "fig, axs = plt.subplots(1, 2, figsize=(8, 4))\n",
    "\n",
    "axs[0].plot(x, res[:,0])\n",
    "axs[0].set_xlabel('Time')\n",
    "axs[0].set_ylabel('Displacement')\n",
    "axs[0].set_title(f'Oscillator\\nFinal amplitude: {round(res[-1,0], 5)}\\nEnergy: {round(res[-1,-2], 5)}')\n",
    "axs[0].grid()\n",
    "\n",
    "axs[1].plot(x, res[:,1])\n",
    "axs[1].set_xlabel('Time')\n",
    "axs[1].set_ylabel('Displacement')\n",
    "axs[1].set_title(f'Cantilever\\nFinal amplitude: {round(res[-1,0], 5)}\\nEnergy: {round(res[-1,-1], 5)}')\n",
    "axs[1].grid()\n",
    "plt.tight_layout()"
   ]
  },
  {
   "cell_type": "code",
   "execution_count": 35,
   "id": "e2528ea6-8c7a-4959-bc97-8c9bc902c306",
   "metadata": {},
   "outputs": [
    {
     "data": {
      "text/plain": [
       "array([[0., 0., 0., 0., 0., 0., 0., 0.]])"
      ]
     },
     "execution_count": 35,
     "metadata": {},
     "output_type": "execute_result"
    }
   ],
   "source": [
    "env.getGradients(system)"
   ]
  },
  {
   "cell_type": "markdown",
   "id": "0c183c5f-9020-44a7-af81-746cf18ce4e8",
   "metadata": {},
   "source": [
    "# Matrices"
   ]
  },
  {
   "cell_type": "code",
   "execution_count": 121,
   "id": "c7172a6c",
   "metadata": {},
   "outputs": [
    {
     "name": "stdout",
     "output_type": "stream",
     "text": [
      "M =  [[ 1.  0.]\n",
      " [ 0. 10.]]\n",
      "B =  [[ 2.  0.]\n",
      " [ 0. 10.]]\n",
      "K =  [[12.  0.]\n",
      " [ 0. 10.]]\n"
     ]
    }
   ],
   "source": [
    "import Springtronics.LinearSimulation as ls\n",
    "\n",
    "linPoint = ls.makeZeroVector(system)\n",
    "M, B, K = ls.makeLinearizedModel(system, linPoint)\n",
    "print(\"M = \", M)\n",
    "print(\"B = \", B)\n",
    "print(\"K = \", K)"
   ]
  },
  {
   "cell_type": "code",
   "execution_count": 122,
   "id": "d6c9f0a6-8861-4643-be1f-284843e292e0",
   "metadata": {},
   "outputs": [],
   "source": [
    "state_size = 8 #2*(2 dofs + 2 probes)\n",
    "adjoint_size = state_size + 4 #2 stiffnesses and 2 dampings"
   ]
  },
  {
   "cell_type": "code",
   "execution_count": 151,
   "id": "3109a669-4af4-4f92-a86d-3a94dfdd2baa",
   "metadata": {},
   "outputs": [
    {
     "name": "stdout",
     "output_type": "stream",
     "text": [
      "K_dims:  [12, 12]\n",
      "K_values:  [1, 1, 1, 1, -12.0, -2.0, -1.0, -1.0]\n",
      "K_indexes:  [4, 0, 5, 1, 6, 2, 7, 3, 0, 4, 4, 4, 1, 5, 5, 5]\n"
     ]
    }
   ],
   "source": [
    "K_dims = [adjoint_size, adjoint_size]\n",
    "K_values = [1, 1, 1, 1, -2*k/m, -b/m, -2*k_cant/m_cant, -b_cant/m_cant]\n",
    "K_indexes = [4, 0, 5, 1, 6, 2, 7, 3, 0, 4, 4, 4, 1, 5, 5, 5]\n",
    "print(\"K_dims: \", K_dims)\n",
    "print(\"K_values: \", K_values)\n",
    "print(\"K_indexes: \", K_indexes)"
   ]
  },
  {
   "cell_type": "code",
   "execution_count": 124,
   "id": "a90d7948-2eee-4853-ab8a-a08b85bf45d6",
   "metadata": {},
   "outputs": [
    {
     "name": "stdout",
     "output_type": "stream",
     "text": [
      "Gamma_dims:  [12, 12, 8]\n",
      "Gamma_values:  [-20.0, -20.0, -1.0, -1.0, -2.0, -0.1, -0.1, 1, 1]\n",
      "Gamma_indexes:  [0, 4, 1, 1, 4, 0, 8, 4, 0, 9, 4, 4, 0, 5, 0, 10, 5, 1, 11, 5, 5, 0, 6, 0, 1, 7, 1]\n"
     ]
    }
   ],
   "source": [
    "Gamma_dims = [adjoint_size, adjoint_size, state_size]\n",
    "Gamma_values = [-2*gamma/m, -2*gamma/m, -1/m, -1/m, -2*gamma/m_cant, -1/m_cant, -1/m_cant, 1, 1]\n",
    "Gamma_indexes = [0, 4, 1, 1, 4, 0, 8, 4, 0, 9, 4, 4, 0, 5, 0, 10, 5, 1, 11, 5, 5, 0, 6, 0, 1, 7, 1]\n",
    "print(\"Gamma_dims: \", Gamma_dims)\n",
    "print(\"Gamma_values: \", Gamma_values)\n",
    "print(\"Gamma_indexes: \", Gamma_indexes)\n"
   ]
  },
  {
   "cell_type": "code",
   "execution_count": 150,
   "id": "5129fd0c-14a0-439d-8b7c-5a7f04f6d56e",
   "metadata": {},
   "outputs": [
    {
     "name": "stdout",
     "output_type": "stream",
     "text": [
      "Lambda_dims:  [12, 12, 8, 8]\n",
      "Lambda_values:  [40000.0]\n",
      "Lambda_indexes:  [1, 5, 1, 1]\n"
     ]
    }
   ],
   "source": [
    "Lambda_dims = [adjoint_size, adjoint_size, state_size, state_size]\n",
    "Lambda_values = [4*duffing/m_cant]\n",
    "Lambda_indexes = [1, 5, 1, 1]\n",
    "print(\"Lambda_dims: \", Lambda_dims)\n",
    "print(\"Lambda_values: \", Lambda_values)\n",
    "print(\"Lambda_indexes: \", Lambda_indexes)"
   ]
  },
  {
   "cell_type": "code",
   "execution_count": null,
   "id": "945c0081-39df-4513-b52b-fe671bfe0d00",
   "metadata": {},
   "outputs": [],
   "source": []
  }
 ],
 "metadata": {
  "kernelspec": {
   "display_name": "Python 3.9.13 ('base')",
   "language": "python",
   "name": "python3"
  },
  "language_info": {
   "codemirror_mode": {
    "name": "ipython",
    "version": 3
   },
   "file_extension": ".py",
   "mimetype": "text/x-python",
   "name": "python",
   "nbconvert_exporter": "python",
   "pygments_lexer": "ipython3",
   "version": "3.10.10"
  },
  "vscode": {
   "interpreter": {
    "hash": "1c8931be4cc502347dca688273fb0ef30d53cbfd7a62de81011c7494c9be56a3"
   }
  }
 },
 "nbformat": 4,
 "nbformat_minor": 5
}
